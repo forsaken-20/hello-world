{
  "nbformat": 4,
  "nbformat_minor": 0,
  "metadata": {
    "colab": {
      "name": "“Untitled0.ipynb”的副本",
      "provenance": [],
      "authorship_tag": "ABX9TyPgPQe0PyMVkiWuns9ShdZN",
      "include_colab_link": true
    },
    "kernelspec": {
      "name": "python3",
      "display_name": "Python 3"
    },
    "language_info": {
      "name": "python"
    },
    "accelerator": "GPU"
  },
  "cells": [
    {
      "cell_type": "markdown",
      "metadata": {
        "id": "view-in-github",
        "colab_type": "text"
      },
      "source": [
        "<a href=\"https://colab.research.google.com/github/forsaken-20/hello-world/blob/master/%E2%80%9CUntitled0_ipynb%E2%80%9D%E7%9A%84%E5%89%AF%E6%9C%AC.ipynb\" target=\"_parent\"><img src=\"https://colab.research.google.com/assets/colab-badge.svg\" alt=\"Open In Colab\"/></a>"
      ]
    },
    {
      "cell_type": "code",
      "metadata": {
        "colab": {
          "base_uri": "https://localhost:8080/"
        },
        "id": "-A_dG5sxWB4i",
        "outputId": "f24698ad-35f9-410e-8173-f153dc89cb4b"
      },
      "source": [
        "import numpy as np\n",
        "a = np.array([\"Hello\",\"World\"])\n",
        "a = np.append(a,\"!\")\n",
        "print(\"xianzai de yuansu:{}\".format(a))\n",
        "\n",
        "for e,i in enumerate(a):\n",
        "  print(\"Index: {}, was: {}\".format(i,e))\n"
      ],
      "execution_count": null,
      "outputs": [
        {
          "output_type": "stream",
          "name": "stdout",
          "text": [
            "xianzai de yuansu:['Hello' 'World' '!']\n",
            "Index: Hello, was: 0\n",
            "Index: World, was: 1\n",
            "Index: !, was: 2\n"
          ]
        }
      ]
    },
    {
      "cell_type": "code",
      "metadata": {
        "colab": {
          "base_uri": "https://localhost:8080/"
        },
        "id": "TsZ15w-ucIvd",
        "outputId": "11eaa8db-cbb0-42b1-8faf-57ea2e0a6b20"
      },
      "source": [
        "c = np.array([1,2,3,4])\n",
        "print(c)\n",
        "print(\"Max: {}\".format(np.max(c)))"
      ],
      "execution_count": null,
      "outputs": [
        {
          "output_type": "stream",
          "name": "stdout",
          "text": [
            "[1 2 3 4]\n",
            "Max: 4\n"
          ]
        }
      ]
    },
    {
      "cell_type": "code",
      "metadata": {
        "colab": {
          "base_uri": "https://localhost:8080/"
        },
        "id": "SfxBTYSAdSTR",
        "outputId": "c6d3227d-98d9-4e4f-d918-c0eb68fe7704"
      },
      "source": [
        "!pip install numpy\n"
      ],
      "execution_count": null,
      "outputs": [
        {
          "output_type": "stream",
          "name": "stdout",
          "text": [
            "Requirement already satisfied: numpy in /usr/local/lib/python3.7/dist-packages (1.19.5)\n"
          ]
        }
      ]
    }
  ]
}